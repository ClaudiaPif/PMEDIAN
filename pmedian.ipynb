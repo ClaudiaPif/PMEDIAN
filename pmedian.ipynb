{
 "cells": [
  {
   "cell_type": "code",
   "execution_count": 1,
   "id": "38d4e53d-e045-40bf-9db8-d0339ff722fe",
   "metadata": {},
   "outputs": [
    {
     "name": "stdout",
     "output_type": "stream",
     "text": [
      "Requirement already satisfied: numpy in c:\\users\\claud\\anaconda3\\lib\\site-packages (1.24.3)\n",
      "Note: you may need to restart the kernel to use updated packages.\n"
     ]
    }
   ],
   "source": [
    "pip install numpy"
   ]
  },
  {
   "cell_type": "code",
   "execution_count": 2,
   "id": "7fb01fce-dfb8-40d0-ad63-285fbbdcf478",
   "metadata": {},
   "outputs": [
    {
     "name": "stdout",
     "output_type": "stream",
     "text": [
      "Requirement already satisfied: matplotlib in c:\\users\\claud\\anaconda3\\lib\\site-packages (3.7.1)\n",
      "Requirement already satisfied: contourpy>=1.0.1 in c:\\users\\claud\\anaconda3\\lib\\site-packages (from matplotlib) (1.0.5)\n",
      "Requirement already satisfied: cycler>=0.10 in c:\\users\\claud\\anaconda3\\lib\\site-packages (from matplotlib) (0.11.0)\n",
      "Requirement already satisfied: fonttools>=4.22.0 in c:\\users\\claud\\anaconda3\\lib\\site-packages (from matplotlib) (4.25.0)\n",
      "Requirement already satisfied: kiwisolver>=1.0.1 in c:\\users\\claud\\anaconda3\\lib\\site-packages (from matplotlib) (1.4.4)\n",
      "Requirement already satisfied: numpy>=1.20 in c:\\users\\claud\\anaconda3\\lib\\site-packages (from matplotlib) (1.24.3)\n",
      "Requirement already satisfied: packaging>=20.0 in c:\\users\\claud\\anaconda3\\lib\\site-packages (from matplotlib) (23.0)\n",
      "Requirement already satisfied: pillow>=6.2.0 in c:\\users\\claud\\anaconda3\\lib\\site-packages (from matplotlib) (9.4.0)\n",
      "Requirement already satisfied: pyparsing>=2.3.1 in c:\\users\\claud\\anaconda3\\lib\\site-packages (from matplotlib) (3.0.9)\n",
      "Requirement already satisfied: python-dateutil>=2.7 in c:\\users\\claud\\anaconda3\\lib\\site-packages (from matplotlib) (2.8.2)\n",
      "Requirement already satisfied: six>=1.5 in c:\\users\\claud\\anaconda3\\lib\\site-packages (from python-dateutil>=2.7->matplotlib) (1.16.0)\n",
      "Note: you may need to restart the kernel to use updated packages.\n"
     ]
    }
   ],
   "source": [
    "pip install matplotlib"
   ]
  },
  {
   "cell_type": "code",
   "execution_count": 3,
   "id": "1adfb65d-3eb4-4ead-8e57-f51cc4485a29",
   "metadata": {},
   "outputs": [
    {
     "name": "stdout",
     "output_type": "stream",
     "text": [
      "Requirement already satisfied: pandas in c:\\users\\claud\\anaconda3\\lib\\site-packages (1.5.3)Note: you may need to restart the kernel to use updated packages.\n",
      "\n",
      "Requirement already satisfied: python-dateutil>=2.8.1 in c:\\users\\claud\\anaconda3\\lib\\site-packages (from pandas) (2.8.2)\n",
      "Requirement already satisfied: pytz>=2020.1 in c:\\users\\claud\\anaconda3\\lib\\site-packages (from pandas) (2022.7)\n",
      "Requirement already satisfied: numpy>=1.21.0 in c:\\users\\claud\\anaconda3\\lib\\site-packages (from pandas) (1.24.3)\n",
      "Requirement already satisfied: six>=1.5 in c:\\users\\claud\\anaconda3\\lib\\site-packages (from python-dateutil>=2.8.1->pandas) (1.16.0)\n"
     ]
    }
   ],
   "source": [
    "pip install pandas"
   ]
  },
  {
   "cell_type": "code",
   "execution_count": 4,
   "id": "79b55b1c",
   "metadata": {},
   "outputs": [
    {
     "name": "stdout",
     "output_type": "stream",
     "text": [
      "Collecting package metadata (current_repodata.json): ...working... done\n",
      "Solving environment: ...working... done\n",
      "\n",
      "# All requested packages already installed.\n",
      "\n",
      "\n",
      "Note: you may need to restart the kernel to use updated packages.\n"
     ]
    }
   ],
   "source": [
    "conda install -c gurobi gurobi"
   ]
  },
  {
   "cell_type": "code",
   "execution_count": 5,
   "id": "c4632e3c-afa1-4b6f-ab32-2441d669b9a0",
   "metadata": {},
   "outputs": [],
   "source": [
    "import numpy as np\n",
    "import matplotlib.pyplot as plt\n",
    "import pandas as pd"
   ]
  },
  {
   "cell_type": "code",
   "execution_count": 6,
   "id": "2c1c01bf-cf4b-449d-94ab-fd8a1a6a2767",
   "metadata": {},
   "outputs": [
    {
     "data": {
      "text/html": [
       "<div>\n",
       "<style scoped>\n",
       "    .dataframe tbody tr th:only-of-type {\n",
       "        vertical-align: middle;\n",
       "    }\n",
       "\n",
       "    .dataframe tbody tr th {\n",
       "        vertical-align: top;\n",
       "    }\n",
       "\n",
       "    .dataframe thead th {\n",
       "        text-align: right;\n",
       "    }\n",
       "</style>\n",
       "<table border=\"1\" class=\"dataframe\">\n",
       "  <thead>\n",
       "    <tr style=\"text-align: right;\">\n",
       "      <th></th>\n",
       "      <th>CUSTOMER</th>\n",
       "      <th>XCOORD</th>\n",
       "      <th>YCOORD</th>\n",
       "      <th>DEMAND</th>\n",
       "    </tr>\n",
       "  </thead>\n",
       "  <tbody>\n",
       "    <tr>\n",
       "      <th>0</th>\n",
       "      <td>1</td>\n",
       "      <td>42.352345</td>\n",
       "      <td>10.245678</td>\n",
       "      <td>13</td>\n",
       "    </tr>\n",
       "    <tr>\n",
       "      <th>1</th>\n",
       "      <td>2</td>\n",
       "      <td>41.987654</td>\n",
       "      <td>12.098765</td>\n",
       "      <td>19</td>\n",
       "    </tr>\n",
       "    <tr>\n",
       "      <th>2</th>\n",
       "      <td>3</td>\n",
       "      <td>43.123456</td>\n",
       "      <td>6.567890</td>\n",
       "      <td>5</td>\n",
       "    </tr>\n",
       "    <tr>\n",
       "      <th>3</th>\n",
       "      <td>4</td>\n",
       "      <td>45.098765</td>\n",
       "      <td>15.432109</td>\n",
       "      <td>3</td>\n",
       "    </tr>\n",
       "    <tr>\n",
       "      <th>4</th>\n",
       "      <td>5</td>\n",
       "      <td>40.876543</td>\n",
       "      <td>9.876543</td>\n",
       "      <td>11</td>\n",
       "    </tr>\n",
       "  </tbody>\n",
       "</table>\n",
       "</div>"
      ],
      "text/plain": [
       "   CUSTOMER     XCOORD     YCOORD  DEMAND\n",
       "0         1  42.352345  10.245678      13\n",
       "1         2  41.987654  12.098765      19\n",
       "2         3  43.123456   6.567890       5\n",
       "3         4  45.098765  15.432109       3\n",
       "4         5  40.876543   9.876543      11"
      ]
     },
     "execution_count": 6,
     "metadata": {},
     "output_type": "execute_result"
    }
   ],
   "source": [
    "dataset=pd.read_csv('customer.csv', sep=\";\") #import the customers' database\n",
    "dataset.head()"
   ]
  },
  {
   "cell_type": "code",
   "execution_count": 7,
   "id": "865eee9a-3f1a-481a-bd0e-b5676fa8ea07",
   "metadata": {},
   "outputs": [],
   "source": [
    "n=len(dataset) #number of clients"
   ]
  },
  {
   "cell_type": "code",
   "execution_count": 8,
   "id": "ee23fc68-14be-4fcb-bb2e-3d26c2452d9e",
   "metadata": {},
   "outputs": [
    {
     "data": {
      "text/plain": [
       "20"
      ]
     },
     "execution_count": 8,
     "metadata": {},
     "output_type": "execute_result"
    }
   ],
   "source": [
    "n"
   ]
  },
  {
   "cell_type": "code",
   "execution_count": 9,
   "id": "9b4e3014-f367-4a4d-af44-641ba351fe54",
   "metadata": {},
   "outputs": [],
   "source": [
    "p=3 #number of facilities to open"
   ]
  },
  {
   "cell_type": "code",
   "execution_count": 10,
   "id": "61ae5a04-5dd6-4fe5-840c-e2a7ae322353",
   "metadata": {},
   "outputs": [],
   "source": [
    "N = [i for i in range(0, n)] #number of customers"
   ]
  },
  {
   "cell_type": "code",
   "execution_count": 11,
   "id": "8103bfa9-fe87-488f-8deb-6edb4bd7a3af",
   "metadata": {},
   "outputs": [
    {
     "data": {
      "text/plain": [
       "[0, 1, 2, 3, 4, 5, 6, 7, 8, 9, 10, 11, 12, 13, 14, 15, 16, 17, 18, 19]"
      ]
     },
     "execution_count": 11,
     "metadata": {},
     "output_type": "execute_result"
    }
   ],
   "source": [
    "N"
   ]
  },
  {
   "cell_type": "code",
   "execution_count": 12,
   "id": "70c3067a-4789-4121-a693-08ee23017f03",
   "metadata": {},
   "outputs": [],
   "source": [
    "dataset2=pd.read_csv('facility.csv', sep=\";\") #import the dataset regarding the possible facilities\n",
    "m=len(dataset2) #number of available facilities"
   ]
  },
  {
   "cell_type": "code",
   "execution_count": 13,
   "id": "ada37658",
   "metadata": {},
   "outputs": [
    {
     "data": {
      "text/html": [
       "<div>\n",
       "<style scoped>\n",
       "    .dataframe tbody tr th:only-of-type {\n",
       "        vertical-align: middle;\n",
       "    }\n",
       "\n",
       "    .dataframe tbody tr th {\n",
       "        vertical-align: top;\n",
       "    }\n",
       "\n",
       "    .dataframe thead th {\n",
       "        text-align: right;\n",
       "    }\n",
       "</style>\n",
       "<table border=\"1\" class=\"dataframe\">\n",
       "  <thead>\n",
       "    <tr style=\"text-align: right;\">\n",
       "      <th></th>\n",
       "      <th>FACILITY</th>\n",
       "      <th>XCOORD</th>\n",
       "      <th>YCOORD</th>\n",
       "    </tr>\n",
       "  </thead>\n",
       "  <tbody>\n",
       "    <tr>\n",
       "      <th>0</th>\n",
       "      <td>A</td>\n",
       "      <td>42.435678</td>\n",
       "      <td>12.543210</td>\n",
       "    </tr>\n",
       "    <tr>\n",
       "      <th>1</th>\n",
       "      <td>B</td>\n",
       "      <td>45.123456</td>\n",
       "      <td>7.654321</td>\n",
       "    </tr>\n",
       "    <tr>\n",
       "      <th>2</th>\n",
       "      <td>C</td>\n",
       "      <td>41.890123</td>\n",
       "      <td>13.987654</td>\n",
       "    </tr>\n",
       "    <tr>\n",
       "      <th>3</th>\n",
       "      <td>D</td>\n",
       "      <td>43.210987</td>\n",
       "      <td>9.876543</td>\n",
       "    </tr>\n",
       "    <tr>\n",
       "      <th>4</th>\n",
       "      <td>E</td>\n",
       "      <td>40.567890</td>\n",
       "      <td>15.098765</td>\n",
       "    </tr>\n",
       "  </tbody>\n",
       "</table>\n",
       "</div>"
      ],
      "text/plain": [
       "  FACILITY     XCOORD     YCOORD\n",
       "0        A  42.435678  12.543210\n",
       "1        B  45.123456   7.654321\n",
       "2        C  41.890123  13.987654\n",
       "3        D  43.210987   9.876543\n",
       "4        E  40.567890  15.098765"
      ]
     },
     "execution_count": 13,
     "metadata": {},
     "output_type": "execute_result"
    }
   ],
   "source": [
    "dataset2.head()"
   ]
  },
  {
   "cell_type": "code",
   "execution_count": 14,
   "id": "9d51a308-8af6-4680-a254-0cf8becd4d60",
   "metadata": {},
   "outputs": [],
   "source": [
    "M = [i for i in range(0, m)] "
   ]
  },
  {
   "cell_type": "code",
   "execution_count": 15,
   "id": "95857acd-3b55-4ba8-90ca-381150fd4514",
   "metadata": {},
   "outputs": [
    {
     "data": {
      "text/plain": [
       "[0, 1, 2, 3, 4, 5]"
      ]
     },
     "execution_count": 15,
     "metadata": {},
     "output_type": "execute_result"
    }
   ],
   "source": [
    "M"
   ]
  },
  {
   "cell_type": "code",
   "execution_count": 16,
   "id": "ed93d277-0e40-4c34-8ea9-c9d205422b7d",
   "metadata": {},
   "outputs": [],
   "source": [
    "q={i: dataset.iloc[i]['DEMAND'] for i in N} #extraction of customer demand\n",
    "#q = {i: rnd.randint(1, 10) for i in N}"
   ]
  },
  {
   "cell_type": "code",
   "execution_count": 17,
   "id": "350fe48d-31aa-4859-b044-3b9403f21465",
   "metadata": {},
   "outputs": [
    {
     "data": {
      "text/plain": [
       "{0: 13.0,\n",
       " 1: 19.0,\n",
       " 2: 5.0,\n",
       " 3: 3.0,\n",
       " 4: 11.0,\n",
       " 5: 5.0,\n",
       " 6: 8.0,\n",
       " 7: 17.0,\n",
       " 8: 3.0,\n",
       " 9: 5.0,\n",
       " 10: 2.0,\n",
       " 11: 1.0,\n",
       " 12: 3.0,\n",
       " 13: 4.0,\n",
       " 14: 1.0,\n",
       " 15: 7.0,\n",
       " 16: 5.0,\n",
       " 17: 20.0,\n",
       " 18: 1.0,\n",
       " 19: 1.0}"
      ]
     },
     "execution_count": 17,
     "metadata": {},
     "output_type": "execute_result"
    }
   ],
   "source": [
    "q"
   ]
  },
  {
   "cell_type": "code",
   "execution_count": 18,
   "id": "706bf7e1-24e6-4d92-abc0-e35152f1cffa",
   "metadata": {},
   "outputs": [],
   "source": [
    "xc = dataset['XCOORD'].tolist() #extract locations\n",
    "yc = dataset['YCOORD'].tolist()"
   ]
  },
  {
   "cell_type": "code",
   "execution_count": 19,
   "id": "a0808976-278f-4e11-afac-c68c5e766397",
   "metadata": {},
   "outputs": [
    {
     "data": {
      "text/plain": [
       "[42.352345,\n",
       " 41.987654,\n",
       " 43.123456,\n",
       " 45.098765,\n",
       " 40.876543,\n",
       " 42.56789,\n",
       " 44.210987,\n",
       " 41.432109,\n",
       " 43.890123,\n",
       " 40.345678,\n",
       " 44.876543,\n",
       " 42.210987,\n",
       " 40.56789,\n",
       " 45.765432,\n",
       " 43.098765,\n",
       " 41.345678,\n",
       " 42.987654,\n",
       " 44.432109,\n",
       " 40.210987,\n",
       " 45.678901]"
      ]
     },
     "execution_count": 19,
     "metadata": {},
     "output_type": "execute_result"
    }
   ],
   "source": [
    "xc"
   ]
  },
  {
   "cell_type": "code",
   "execution_count": 20,
   "id": "2cba6c7d-5298-4335-9665-d44b096b9f09",
   "metadata": {},
   "outputs": [
    {
     "data": {
      "text/plain": [
       "[10.245678,\n",
       " 12.098765,\n",
       " 6.56789,\n",
       " 15.432109,\n",
       " 9.876543,\n",
       " 7.890123,\n",
       " 17.654321,\n",
       " 13.210987,\n",
       " 8.432109,\n",
       " 11.123456,\n",
       " 6.890123,\n",
       " 16.765432,\n",
       " 14.987654,\n",
       " 10.56789,\n",
       " 18.210987,\n",
       " 11.345678,\n",
       " 15.098765,\n",
       " 7.432109,\n",
       " 13.876543,\n",
       " 9.210987]"
      ]
     },
     "execution_count": 20,
     "metadata": {},
     "output_type": "execute_result"
    }
   ],
   "source": [
    "yc"
   ]
  },
  {
   "cell_type": "code",
   "execution_count": 21,
   "id": "ed53aa80-0f45-4726-a6a5-86d1d908cb04",
   "metadata": {},
   "outputs": [],
   "source": [
    "xf = dataset2['XCOORD'].tolist() #extract locations of the facilities\n",
    "yf = dataset2['YCOORD'].tolist()"
   ]
  },
  {
   "cell_type": "code",
   "execution_count": 22,
   "id": "e1eb4d20-27a2-4f6c-8f1d-ecd52f8a0977",
   "metadata": {},
   "outputs": [
    {
     "data": {
      "text/plain": [
       "<matplotlib.collections.PathCollection at 0x1134d110b10>"
      ]
     },
     "execution_count": 22,
     "metadata": {},
     "output_type": "execute_result"
    },
    {
     "data": {
      "image/png": "[encoded data removed]",
      "text/plain": [
       "<Figure size 640x480 with 1 Axes>"
      ]
     },
     "metadata": {},
     "output_type": "display_data"
    }
   ],
   "source": [
    "#plt.plot(xc[0], yc[0], c='r', marker='s')\n",
    "plt.scatter(xc[0:], yc[0:], c='b')\n",
    "plt.scatter(xf[0:], yf[0:], c='r')"
   ]
  },
  {
   "cell_type": "code",
   "execution_count": 23,
   "id": "66c80ecf-0b4f-4511-9b24-ea0639b63516",
   "metadata": {},
   "outputs": [],
   "source": [
    "A = [(i, j) for i in N for j in M]\n",
    "Y = [(j) for j in M]\n"
   ]
  },
  {
   "cell_type": "code",
   "execution_count": 24,
   "id": "19936299",
   "metadata": {},
   "outputs": [],
   "source": [
    "from numpy import sin, cos, arccos, pi, round\n",
    "\n",
    "def rad2deg(radians):\n",
    "    degrees = radians * 180 / pi\n",
    "    return degrees\n",
    "\n",
    "def deg2rad(degrees):\n",
    "    radians = degrees * pi / 180\n",
    "    return radians\n",
    "\n",
    "def getDistanceBetweenPointsNew(latitude1, longitude1, latitude2, longitude2, unit = 'kilometers'):\n",
    "    \n",
    "    theta = longitude1 - longitude2\n",
    "    \n",
    "    distance = 60 * 1.1515 * rad2deg(\n",
    "        arccos(\n",
    "            (sin(deg2rad(latitude1)) * sin(deg2rad(latitude2))) + \n",
    "            (cos(deg2rad(latitude1)) * cos(deg2rad(latitude2)) * cos(deg2rad(theta)))\n",
    "        )\n",
    "    )\n",
    "    \n",
    "    if unit == 'miles':\n",
    "        return round(distance, 2)\n",
    "    if unit == 'kilometers':\n",
    "        return round(distance * 1.609344, 2)"
   ]
  },
  {
   "cell_type": "code",
   "execution_count": 25,
   "id": "b0e86a62",
   "metadata": {},
   "outputs": [],
   "source": [
    "c = {(i, j): getDistanceBetweenPointsNew(xc[i], yc[i], xf[j], yf[j], 'kilometers') for i in N for j in M}\n",
    " #distance between customers and facilities"
   ]
  },
  {
   "cell_type": "code",
   "execution_count": 26,
   "id": "9385b877",
   "metadata": {},
   "outputs": [
    {
     "data": {
      "text/plain": [
       "{(0, 0): 188.89,\n",
       " (0, 1): 371.81,\n",
       " (0, 2): 312.83,\n",
       " (0, 3): 100.11,\n",
       " (0, 4): 450.35,\n",
       " (0, 5): 253.48,\n",
       " (1, 0): 61.82,\n",
       " (1, 1): 499.68,\n",
       " (1, 2): 156.6,\n",
       " (1, 3): 227.11,\n",
       " (1, 4): 296.22,\n",
       " (1, 5): 386.88,\n",
       " (2, 0): 493.5,\n",
       " (2, 1): 238.68,\n",
       " (2, 2): 623.23,\n",
       " (2, 3): 268.48,\n",
       " (2, 4): 761.15,\n",
       " (2, 5): 192.62,\n",
       " (3, 0): 376.09,\n",
       " (3, 1): 610.1,\n",
       " (3, 2): 375.29,\n",
       " (3, 3): 490.24,\n",
       " (3, 4): 504.52,\n",
       " (3, 5): 562.21,\n",
       " (4, 0): 281.28,\n",
       " (4, 1): 505.55,\n",
       " (4, 2): 360.97,\n",
       " (4, 3): 259.57,\n",
       " (4, 4): 441.34,\n",
       " (4, 5): 389.16,\n",
       " (5, 0): 381.67,\n",
       " (5, 1): 284.78,\n",
       " (5, 2): 507.53,\n",
       " (5, 3): 176.91,\n",
       " (5, 4): 639.32,\n",
       " (5, 5): 187.87,\n",
       " (6, 0): 458.03,\n",
       " (6, 1): 796.74,\n",
       " (6, 2): 394.07,\n",
       " (6, 3): 634.67,\n",
       " (6, 4): 456.15,\n",
       " (6, 5): 734.61,\n",
       " (7, 0): 124.51,\n",
       " (7, 1): 608.66,\n",
       " (7, 2): 82.19,\n",
       " (7, 3): 337.99,\n",
       " (7, 4): 185.27,\n",
       " (7, 5): 497.21,\n",
       " (8, 0): 370.51,\n",
       " (8, 1): 150.36,\n",
       " (8, 2): 504.11,\n",
       " (8, 3): 138.75,\n",
       " (8, 4): 661.27,\n",
       " (8, 5): 35.68,\n",
       " (9, 0): 260.81,\n",
       " (9, 1): 601.92,\n",
       " (9, 2): 295.02,\n",
       " (9, 3): 334.94,\n",
       " (9, 4): 337.2,\n",
       " (9, 5): 483.39,\n",
       " (10, 0): 529.41,\n",
       " (10, 1): 66.06,\n",
       " (10, 2): 662.38,\n",
       " (10, 3): 302.07,\n",
       " (10, 4): 823.42,\n",
       " (10, 5): 142.85,\n",
       " (11, 0): 347.97,\n",
       " (11, 1): 800.57,\n",
       " (11, 2): 232.09,\n",
       " (11, 3): 573.52,\n",
       " (11, 4): 229.57,\n",
       " (11, 5): 710.61,\n",
       " (12, 0): 290.78,\n",
       " (12, 1): 782.99,\n",
       " (12, 2): 169.13,\n",
       " (12, 3): 514.97,\n",
       " (12, 4): 9.38,\n",
       " (12, 5): 673.37,\n",
       " (13, 0): 402.4,\n",
       " (13, 1): 238.22,\n",
       " (13, 2): 510.69,\n",
       " (13, 3): 289.27,\n",
       " (13, 4): 684.56,\n",
       " (13, 5): 240.98,\n",
       " (14, 0): 468.38,\n",
       " (14, 1): 871.6,\n",
       " (14, 2): 371.36,\n",
       " (14, 3): 675.87,\n",
       " (14, 4): 381.61,\n",
       " (14, 5): 795.85,\n",
       " (15, 0): 156.56,\n",
       " (15, 1): 515.49,\n",
       " (15, 2): 227.79,\n",
       " (15, 3): 240.04,\n",
       " (15, 4): 326.77,\n",
       " (15, 5): 397.48,\n",
       " (16, 0): 217.61,\n",
       " (16, 1): 640.21,\n",
       " (16, 2): 152.33,\n",
       " (16, 3): 424.64,\n",
       " (16, 4): 269.05,\n",
       " (16, 5): 553.6,\n",
       " (17, 0): 468.47,\n",
       " (17, 1): 78.85,\n",
       " (17, 2): 601.89,\n",
       " (17, 3): 238.5,\n",
       " (17, 4): 760.8,\n",
       " (17, 5): 83.26,\n",
       " (18, 0): 271.25,\n",
       " (18, 1): 745.96,\n",
       " (18, 2): 186.93,\n",
       " (18, 3): 470.53,\n",
       " (18, 4): 110.85,\n",
       " (18, 5): 631.27,\n",
       " (19, 0): 448.17,\n",
       " (19, 1): 136.32,\n",
       " (19, 2): 569.43,\n",
       " (19, 3): 279.44,\n",
       " (19, 4): 742.04,\n",
       " (19, 5): 174.34}"
      ]
     },
     "execution_count": 26,
     "metadata": {},
     "output_type": "execute_result"
    }
   ],
   "source": [
    "c"
   ]
  },
  {
   "cell_type": "code",
   "execution_count": 27,
   "id": "399b320f",
   "metadata": {},
   "outputs": [],
   "source": [
    "#conda install -c gurobi gurobi"
   ]
  },
  {
   "cell_type": "code",
   "execution_count": 28,
   "id": "b868cfb4-8676-4af0-b2e6-4efb5ad31392",
   "metadata": {},
   "outputs": [],
   "source": [
    "#pip install gurobipy"
   ]
  },
  {
   "cell_type": "code",
   "execution_count": 29,
   "id": "a2cde180-32fe-470c-ba97-77c70f15cde0",
   "metadata": {},
   "outputs": [],
   "source": [
    "from gurobipy import Model, GRB, quicksum"
   ]
  },
  {
   "cell_type": "code",
   "execution_count": 30,
   "id": "ba4f90a0-1b3d-40ad-a422-1e72190966ac",
   "metadata": {},
   "outputs": [
    {
     "name": "stdout",
     "output_type": "stream",
     "text": [
      "Set parameter Username\n",
      "Academic license - for non-commercial use only - expires 2024-07-27\n"
     ]
    }
   ],
   "source": [
    "mdl = Model('PMEDIAN')"
   ]
  },
  {
   "cell_type": "code",
   "execution_count": 31,
   "id": "fe8c1b37-a962-4162-805e-b6241c38d893",
   "metadata": {},
   "outputs": [],
   "source": [
    "x = mdl.addVars(A, vtype=GRB.BINARY)\n",
    "y = mdl.addVars(Y, vtype=GRB.BINARY)"
   ]
  },
  {
   "cell_type": "code",
   "execution_count": 32,
   "id": "4a8ceeef-ec51-447c-b5cc-f28146a46c67",
   "metadata": {},
   "outputs": [],
   "source": [
    "mdl.modelSense = GRB.MINIMIZE\n",
    "mdl.setObjective(quicksum(x[i, j]*c[i, j]*q[i] for i, j in A))\n"
   ]
  },
  {
   "cell_type": "code",
   "execution_count": 33,
   "id": "fe647fe3-c4af-4bd3-a9ee-d0d5edd48eca",
   "metadata": {},
   "outputs": [
    {
     "data": {
      "text/plain": [
       "{(0, 0): <gurobi.Constr *Awaiting Model Update*>,\n",
       " (0, 1): <gurobi.Constr *Awaiting Model Update*>,\n",
       " (0, 2): <gurobi.Constr *Awaiting Model Update*>,\n",
       " (0, 3): <gurobi.Constr *Awaiting Model Update*>,\n",
       " (0, 4): <gurobi.Constr *Awaiting Model Update*>,\n",
       " (0, 5): <gurobi.Constr *Awaiting Model Update*>,\n",
       " (1, 0): <gurobi.Constr *Awaiting Model Update*>,\n",
       " (1, 1): <gurobi.Constr *Awaiting Model Update*>,\n",
       " (1, 2): <gurobi.Constr *Awaiting Model Update*>,\n",
       " (1, 3): <gurobi.Constr *Awaiting Model Update*>,\n",
       " (1, 4): <gurobi.Constr *Awaiting Model Update*>,\n",
       " (1, 5): <gurobi.Constr *Awaiting Model Update*>,\n",
       " (2, 0): <gurobi.Constr *Awaiting Model Update*>,\n",
       " (2, 1): <gurobi.Constr *Awaiting Model Update*>,\n",
       " (2, 2): <gurobi.Constr *Awaiting Model Update*>,\n",
       " (2, 3): <gurobi.Constr *Awaiting Model Update*>,\n",
       " (2, 4): <gurobi.Constr *Awaiting Model Update*>,\n",
       " (2, 5): <gurobi.Constr *Awaiting Model Update*>,\n",
       " (3, 0): <gurobi.Constr *Awaiting Model Update*>,\n",
       " (3, 1): <gurobi.Constr *Awaiting Model Update*>,\n",
       " (3, 2): <gurobi.Constr *Awaiting Model Update*>,\n",
       " (3, 3): <gurobi.Constr *Awaiting Model Update*>,\n",
       " (3, 4): <gurobi.Constr *Awaiting Model Update*>,\n",
       " (3, 5): <gurobi.Constr *Awaiting Model Update*>,\n",
       " (4, 0): <gurobi.Constr *Awaiting Model Update*>,\n",
       " (4, 1): <gurobi.Constr *Awaiting Model Update*>,\n",
       " (4, 2): <gurobi.Constr *Awaiting Model Update*>,\n",
       " (4, 3): <gurobi.Constr *Awaiting Model Update*>,\n",
       " (4, 4): <gurobi.Constr *Awaiting Model Update*>,\n",
       " (4, 5): <gurobi.Constr *Awaiting Model Update*>,\n",
       " (5, 0): <gurobi.Constr *Awaiting Model Update*>,\n",
       " (5, 1): <gurobi.Constr *Awaiting Model Update*>,\n",
       " (5, 2): <gurobi.Constr *Awaiting Model Update*>,\n",
       " (5, 3): <gurobi.Constr *Awaiting Model Update*>,\n",
       " (5, 4): <gurobi.Constr *Awaiting Model Update*>,\n",
       " (5, 5): <gurobi.Constr *Awaiting Model Update*>,\n",
       " (6, 0): <gurobi.Constr *Awaiting Model Update*>,\n",
       " (6, 1): <gurobi.Constr *Awaiting Model Update*>,\n",
       " (6, 2): <gurobi.Constr *Awaiting Model Update*>,\n",
       " (6, 3): <gurobi.Constr *Awaiting Model Update*>,\n",
       " (6, 4): <gurobi.Constr *Awaiting Model Update*>,\n",
       " (6, 5): <gurobi.Constr *Awaiting Model Update*>,\n",
       " (7, 0): <gurobi.Constr *Awaiting Model Update*>,\n",
       " (7, 1): <gurobi.Constr *Awaiting Model Update*>,\n",
       " (7, 2): <gurobi.Constr *Awaiting Model Update*>,\n",
       " (7, 3): <gurobi.Constr *Awaiting Model Update*>,\n",
       " (7, 4): <gurobi.Constr *Awaiting Model Update*>,\n",
       " (7, 5): <gurobi.Constr *Awaiting Model Update*>,\n",
       " (8, 0): <gurobi.Constr *Awaiting Model Update*>,\n",
       " (8, 1): <gurobi.Constr *Awaiting Model Update*>,\n",
       " (8, 2): <gurobi.Constr *Awaiting Model Update*>,\n",
       " (8, 3): <gurobi.Constr *Awaiting Model Update*>,\n",
       " (8, 4): <gurobi.Constr *Awaiting Model Update*>,\n",
       " (8, 5): <gurobi.Constr *Awaiting Model Update*>,\n",
       " (9, 0): <gurobi.Constr *Awaiting Model Update*>,\n",
       " (9, 1): <gurobi.Constr *Awaiting Model Update*>,\n",
       " (9, 2): <gurobi.Constr *Awaiting Model Update*>,\n",
       " (9, 3): <gurobi.Constr *Awaiting Model Update*>,\n",
       " (9, 4): <gurobi.Constr *Awaiting Model Update*>,\n",
       " (9, 5): <gurobi.Constr *Awaiting Model Update*>,\n",
       " (10, 0): <gurobi.Constr *Awaiting Model Update*>,\n",
       " (10, 1): <gurobi.Constr *Awaiting Model Update*>,\n",
       " (10, 2): <gurobi.Constr *Awaiting Model Update*>,\n",
       " (10, 3): <gurobi.Constr *Awaiting Model Update*>,\n",
       " (10, 4): <gurobi.Constr *Awaiting Model Update*>,\n",
       " (10, 5): <gurobi.Constr *Awaiting Model Update*>,\n",
       " (11, 0): <gurobi.Constr *Awaiting Model Update*>,\n",
       " (11, 1): <gurobi.Constr *Awaiting Model Update*>,\n",
       " (11, 2): <gurobi.Constr *Awaiting Model Update*>,\n",
       " (11, 3): <gurobi.Constr *Awaiting Model Update*>,\n",
       " (11, 4): <gurobi.Constr *Awaiting Model Update*>,\n",
       " (11, 5): <gurobi.Constr *Awaiting Model Update*>,\n",
       " (12, 0): <gurobi.Constr *Awaiting Model Update*>,\n",
       " (12, 1): <gurobi.Constr *Awaiting Model Update*>,\n",
       " (12, 2): <gurobi.Constr *Awaiting Model Update*>,\n",
       " (12, 3): <gurobi.Constr *Awaiting Model Update*>,\n",
       " (12, 4): <gurobi.Constr *Awaiting Model Update*>,\n",
       " (12, 5): <gurobi.Constr *Awaiting Model Update*>,\n",
       " (13, 0): <gurobi.Constr *Awaiting Model Update*>,\n",
       " (13, 1): <gurobi.Constr *Awaiting Model Update*>,\n",
       " (13, 2): <gurobi.Constr *Awaiting Model Update*>,\n",
       " (13, 3): <gurobi.Constr *Awaiting Model Update*>,\n",
       " (13, 4): <gurobi.Constr *Awaiting Model Update*>,\n",
       " (13, 5): <gurobi.Constr *Awaiting Model Update*>,\n",
       " (14, 0): <gurobi.Constr *Awaiting Model Update*>,\n",
       " (14, 1): <gurobi.Constr *Awaiting Model Update*>,\n",
       " (14, 2): <gurobi.Constr *Awaiting Model Update*>,\n",
       " (14, 3): <gurobi.Constr *Awaiting Model Update*>,\n",
       " (14, 4): <gurobi.Constr *Awaiting Model Update*>,\n",
       " (14, 5): <gurobi.Constr *Awaiting Model Update*>,\n",
       " (15, 0): <gurobi.Constr *Awaiting Model Update*>,\n",
       " (15, 1): <gurobi.Constr *Awaiting Model Update*>,\n",
       " (15, 2): <gurobi.Constr *Awaiting Model Update*>,\n",
       " (15, 3): <gurobi.Constr *Awaiting Model Update*>,\n",
       " (15, 4): <gurobi.Constr *Awaiting Model Update*>,\n",
       " (15, 5): <gurobi.Constr *Awaiting Model Update*>,\n",
       " (16, 0): <gurobi.Constr *Awaiting Model Update*>,\n",
       " (16, 1): <gurobi.Constr *Awaiting Model Update*>,\n",
       " (16, 2): <gurobi.Constr *Awaiting Model Update*>,\n",
       " (16, 3): <gurobi.Constr *Awaiting Model Update*>,\n",
       " (16, 4): <gurobi.Constr *Awaiting Model Update*>,\n",
       " (16, 5): <gurobi.Constr *Awaiting Model Update*>,\n",
       " (17, 0): <gurobi.Constr *Awaiting Model Update*>,\n",
       " (17, 1): <gurobi.Constr *Awaiting Model Update*>,\n",
       " (17, 2): <gurobi.Constr *Awaiting Model Update*>,\n",
       " (17, 3): <gurobi.Constr *Awaiting Model Update*>,\n",
       " (17, 4): <gurobi.Constr *Awaiting Model Update*>,\n",
       " (17, 5): <gurobi.Constr *Awaiting Model Update*>,\n",
       " (18, 0): <gurobi.Constr *Awaiting Model Update*>,\n",
       " (18, 1): <gurobi.Constr *Awaiting Model Update*>,\n",
       " (18, 2): <gurobi.Constr *Awaiting Model Update*>,\n",
       " (18, 3): <gurobi.Constr *Awaiting Model Update*>,\n",
       " (18, 4): <gurobi.Constr *Awaiting Model Update*>,\n",
       " (18, 5): <gurobi.Constr *Awaiting Model Update*>,\n",
       " (19, 0): <gurobi.Constr *Awaiting Model Update*>,\n",
       " (19, 1): <gurobi.Constr *Awaiting Model Update*>,\n",
       " (19, 2): <gurobi.Constr *Awaiting Model Update*>,\n",
       " (19, 3): <gurobi.Constr *Awaiting Model Update*>,\n",
       " (19, 4): <gurobi.Constr *Awaiting Model Update*>,\n",
       " (19, 5): <gurobi.Constr *Awaiting Model Update*>}"
      ]
     },
     "execution_count": 33,
     "metadata": {},
     "output_type": "execute_result"
    }
   ],
   "source": [
    "mdl.addConstr(quicksum(y[j] for j in M) == p)\n",
    "mdl.addConstrs(quicksum(x[i, j] for j in M) == 1 for i in N)\n",
    "mdl.addConstrs(x[i, j]<=y[j] for i in N for j in M)"
   ]
  },
  {
   "cell_type": "code",
   "execution_count": 34,
   "id": "cda0a2f0-c35d-4f58-b3ab-c3b5b441b765",
   "metadata": {},
   "outputs": [
    {
     "name": "stdout",
     "output_type": "stream",
     "text": [
      "Gurobi Optimizer version 10.0.2 build v10.0.2rc0 (win64)\n",
      "\n",
      "CPU model: Intel(R) Core(TM) i7-8550U CPU @ 1.80GHz, instruction set [SSE2|AVX|AVX2]\n",
      "Thread count: 4 physical cores, 8 logical processors, using up to 8 threads\n",
      "\n",
      "Optimize a model with 141 rows, 126 columns and 366 nonzeros\n",
      "Model fingerprint: 0xa71a4bd2\n",
      "Variable types: 0 continuous, 126 integer (126 binary)\n",
      "Coefficient statistics:\n",
      "  Matrix range     [1e+00, 1e+00]\n",
      "  Objective range  [3e+01, 2e+04]\n",
      "  Bounds range     [1e+00, 1e+00]\n",
      "  RHS range        [1e+00, 3e+00]\n",
      "Found heuristic solution: objective 39706.940000\n",
      "Presolve time: 0.00s\n",
      "Presolved: 141 rows, 126 columns, 366 nonzeros\n",
      "Variable types: 0 continuous, 126 integer (126 binary)\n",
      "Found heuristic solution: objective 22980.660000\n",
      "\n",
      "Root relaxation: objective 2.195793e+04, 56 iterations, 0.00 seconds (0.00 work units)\n",
      "\n",
      "    Nodes    |    Current Node    |     Objective Bounds      |     Work\n",
      " Expl Unexpl |  Obj  Depth IntInf | Incumbent    BestBd   Gap | It/Node Time\n",
      "\n",
      "*    0     0               0    21957.930000 21957.9300  0.00%     -    0s\n",
      "\n",
      "Explored 1 nodes (56 simplex iterations) in 0.02 seconds (0.00 work units)\n",
      "Thread count was 8 (of 8 available processors)\n",
      "\n",
      "Solution count 3: 21957.9 22980.7 39706.9 \n",
      "\n",
      "Optimal solution found (tolerance 1.00e-04)\n",
      "Best objective 2.195793000000e+04, best bound 2.195793000000e+04, gap 0.0000%\n"
     ]
    }
   ],
   "source": [
    "#mdl.Params.MIPGap = 0.1\n",
    "#mdl.Params.TimeLimit = 30  # seconds\n",
    "mdl.optimize()"
   ]
  },
  {
   "cell_type": "code",
   "execution_count": 35,
   "id": "c1b3192f-a7b6-4984-96f6-5eba00af976e",
   "metadata": {},
   "outputs": [],
   "source": [
    "active_arcs = [a for a in A if x[a].x > 0.99]"
   ]
  },
  {
   "cell_type": "code",
   "execution_count": 36,
   "id": "3c67a10d-6f6c-4095-b1da-a276f6d4483f",
   "metadata": {},
   "outputs": [
    {
     "data": {
      "text/plain": [
       "[(0, 0),\n",
       " (1, 0),\n",
       " (2, 5),\n",
       " (3, 2),\n",
       " (4, 0),\n",
       " (5, 5),\n",
       " (6, 2),\n",
       " (7, 2),\n",
       " (8, 5),\n",
       " (9, 0),\n",
       " (10, 5),\n",
       " (11, 2),\n",
       " (12, 2),\n",
       " (13, 5),\n",
       " (14, 2),\n",
       " (15, 0),\n",
       " (16, 2),\n",
       " (17, 5),\n",
       " (18, 2),\n",
       " (19, 5)]"
      ]
     },
     "execution_count": 36,
     "metadata": {},
     "output_type": "execute_result"
    }
   ],
   "source": [
    "active_arcs"
   ]
  },
  {
   "cell_type": "code",
   "execution_count": 37,
   "id": "15090cd6",
   "metadata": {},
   "outputs": [],
   "source": [
    "opened_facilities = [b for b in M if y[b].x > 0.99]"
   ]
  },
  {
   "cell_type": "code",
   "execution_count": 38,
   "id": "829e4d80",
   "metadata": {},
   "outputs": [
    {
     "data": {
      "text/plain": [
       "[0, 2, 5]"
      ]
     },
     "execution_count": 38,
     "metadata": {},
     "output_type": "execute_result"
    }
   ],
   "source": [
    "opened_facilities"
   ]
  },
  {
   "cell_type": "code",
   "execution_count": 39,
   "id": "f7913e02-97a8-4ab7-bf65-84f91ef32865",
   "metadata": {},
   "outputs": [
    {
     "data": {
      "text/plain": [
       "<matplotlib.collections.PathCollection at 0x1134d268490>"
      ]
     },
     "execution_count": 39,
     "metadata": {},
     "output_type": "execute_result"
    },
    {
     "data": {
      "image/png": "[encoded data removed]",
      "text/plain": [
       "<Figure size 640x480 with 1 Axes>"
      ]
     },
     "metadata": {},
     "output_type": "display_data"
    }
   ],
   "source": [
    "for i, j in active_arcs:\n",
    "     plt.plot([xc[i], xf[j]], [yc[i], yf[j]], c='g', zorder=0)\n",
    "plt.scatter(xc[0:], yc[0:], c='b')\n",
    "plt.scatter(xf[0:], yf[0:], c='r')"
   ]
  },
  {
   "cell_type": "code",
   "execution_count": 40,
   "id": "d812bedd",
   "metadata": {},
   "outputs": [],
   "source": [
    "demand_satisfied=0;\n",
    "dist=0;\n",
    "for i in range(n):\n",
    "    for j in range(m):\n",
    "        if (x[i,j].x>0.99):\n",
    "            demand_satisfied=demand_satisfied+q[i];\n",
    "\n"
   ]
  },
  {
   "cell_type": "code",
   "execution_count": 41,
   "id": "0b9c9200",
   "metadata": {},
   "outputs": [
    {
     "data": {
      "text/plain": [
       "134.0"
      ]
     },
     "execution_count": 41,
     "metadata": {},
     "output_type": "execute_result"
    }
   ],
   "source": [
    "demand_satisfied"
   ]
  },
  {
   "cell_type": "code",
   "execution_count": 42,
   "id": "ddf3952b",
   "metadata": {},
   "outputs": [],
   "source": [
    "total_demand=0;\n",
    "for i in N:\n",
    "    total_demand=total_demand+q[i]\n",
    "    "
   ]
  },
  {
   "cell_type": "code",
   "execution_count": 43,
   "id": "cf133b58",
   "metadata": {},
   "outputs": [
    {
     "data": {
      "text/plain": [
       "134.0"
      ]
     },
     "execution_count": 43,
     "metadata": {},
     "output_type": "execute_result"
    }
   ],
   "source": [
    "total_demand"
   ]
  },
  {
   "cell_type": "code",
   "execution_count": null,
   "id": "4775282b",
   "metadata": {},
   "outputs": [],
   "source": []
  }
 ],
 "metadata": {
  "kernelspec": {
   "display_name": "Python 3 (ipykernel)",
   "language": "python",
   "name": "python3"
  },
  "language_info": {
   "codemirror_mode": {
    "name": "ipython",
    "version": 3
   },
   "file_extension": ".py",
   "mimetype": "text/x-python",
   "name": "python",
   "nbconvert_exporter": "python",
   "pygments_lexer": "ipython3",
   "version": "3.11.3"
  }
 },
 "nbformat": 4,
 "nbformat_minor": 5
}
